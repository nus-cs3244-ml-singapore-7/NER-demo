{
  "nbformat": 4,
  "nbformat_minor": 0,
  "metadata": {
    "colab": {
      "name": "Parliament Hansard NLP CS3244.ipynb",
      "provenance": [],
      "toc_visible": true
    },
    "kernelspec": {
      "name": "python3",
      "display_name": "Python 3"
    },
    "language_info": {
      "name": "python"
    }
  },
  "cells": [
    {
      "cell_type": "markdown",
      "metadata": {
        "id": "H3jjHBA0gI2l"
      },
      "source": [
        "# Named Entity Recognition"
      ]
    },
    {
      "cell_type": "code",
      "metadata": {
        "id": "iWrDt3y0BEVf"
      },
      "source": [
        "# !pip install transformers\n",
        "\n",
        "from transformers import *\n",
        "import torch\n",
        "\n",
        "tokenizer = XLMRobertaTokenizerFast.from_pretrained('xlm-roberta-base')\n",
        "model = XLMRobertaForTokenClassification.from_pretrained(\n",
        "    'asahi417/tner-xlm-roberta-base-ontonotes5')\n",
        "\n",
        "ner = pipeline('ner', model=model, tokenizer=tokenizer, grouped_entities=True)"
      ],
      "execution_count": null,
      "outputs": []
    },
    {
      "cell_type": "code",
      "metadata": {
        "id": "g953x52MZbI1"
      },
      "source": [
        "sequence = \"\"\"<p>1 <strong>Mr Louis Ng Kok Kwang</strong> asked&nbsp;the Minister for Health \n",
        "whether couples who have pre-implantation genetically screened embryos stored overseas can have \n",
        "their embryos shipped to Singapore given current travel restrictions during the \n",
        "pandemic.</p><p><strong>\tThe Parliamentary Secretary to the Minister for Health \n",
        "(Ms Rahayu Mahzam) (for the Minister for Health)</strong>: Happy International Women's \n",
        "Day to all! During the pandemic, MOH received appeals from some couples to import their \n",
        "pre-implantation genetically screened embryos stored overseas.&nbsp;</p><p>In reviewing \n",
        "each appeal, the Ministry considered whether processes and standards employed by overseas \n",
        "assisted reproduction (AR) centres are aligned to Singapore’s regulatory requirements under \n",
        "the Licensing Terms and Conditions for AR Services (AR LTCs). The Ministry may on an \n",
        "exceptional basis allow importation of the embryos, subject to conditions. These conditions \n",
        "include: (a) declaration by the overseas AR centre that the relevant requirements under the AR \n",
        "LTCs, including the handling, processing and storage of the embryos, are adhered to; (b) that \n",
        "no other findings besides the presence or absence of chromosomal aberrations are reported, and \n",
        "(c) proper documentation of the screening test results that were provided to the patient and \n",
        "attending physician in our local AR centres.&nbsp;</p><p>Local AR centres which receive the \n",
        "tested embryos must also continue to ensure compliance with the AR LTCs.</p>\"\"\"\n",
        "\n",
        "\n",
        "entity_list = ner(sequence)\n",
        "for idx in entity_list:\n",
        "  idx['label'] = idx.pop('entity_group')\n",
        "\n",
        "doc= {\"text\": sequence, \"ents\" : entity_list}\n"
      ],
      "execution_count": null,
      "outputs": []
    },
    {
      "cell_type": "code",
      "metadata": {
        "colab": {
          "base_uri": "https://localhost:8080/",
          "height": 607
        },
        "id": "Qg0pEOTrcqog",
        "outputId": "80cc61e4-d55b-4ece-82ac-f7e23a18e1c6"
      },
      "source": [
        "import spacy\n",
        "from spacy import displacy\n",
        "\n",
        "displacy.render(doc, style=\"ent\", manual=True, jupyter=True)"
      ],
      "execution_count": null,
      "outputs": [
        {
          "output_type": "display_data",
          "data": {
            "text/html": [
              "<span class=\"tex2jax_ignore\"><div class=\"entities\" style=\"line-height: 2.5; direction: ltr\">&lt;p&gt;\n",
              "<mark class=\"entity\" style=\"background: #ddd; padding: 0.45em 0.6em; margin: 0 0.25em; line-height: 1; border-radius: 0.35em;\">\n",
              "    1\n",
              "    <span style=\"font-size: 0.8em; font-weight: bold; line-height: 1; border-radius: 0.35em; text-transform: uppercase; vertical-align: middle; margin-left: 0.5rem\">cardinal number</span>\n",
              "</mark>\n",
              " &lt;strong&gt;Mr \n",
              "<mark class=\"entity\" style=\"background: #aa9cfc; padding: 0.45em 0.6em; margin: 0 0.25em; line-height: 1; border-radius: 0.35em;\">\n",
              "    Louis Ng Kok Kwang\n",
              "    <span style=\"font-size: 0.8em; font-weight: bold; line-height: 1; border-radius: 0.35em; text-transform: uppercase; vertical-align: middle; margin-left: 0.5rem\">person</span>\n",
              "</mark>\n",
              "&lt;/strong&gt; asked&amp;nbsp;the Minister for Health </br>whether couples who have pre-implantation genetically screened embryos stored overseas can have </br>their embryos shipped to \n",
              "<mark class=\"entity\" style=\"background: #ddd; padding: 0.45em 0.6em; margin: 0 0.25em; line-height: 1; border-radius: 0.35em;\">\n",
              "    Singapore\n",
              "    <span style=\"font-size: 0.8em; font-weight: bold; line-height: 1; border-radius: 0.35em; text-transform: uppercase; vertical-align: middle; margin-left: 0.5rem\">geopolitical area</span>\n",
              "</mark>\n",
              " given current travel restrictions during the </br>pandemic.&lt;/p&gt;&lt;p&gt;&lt;strong&gt;\tThe Parliamentary Secretary to the Minister for Health </br>(Ms \n",
              "<mark class=\"entity\" style=\"background: #aa9cfc; padding: 0.45em 0.6em; margin: 0 0.25em; line-height: 1; border-radius: 0.35em;\">\n",
              "    Rahayu Mahzam\n",
              "    <span style=\"font-size: 0.8em; font-weight: bold; line-height: 1; border-radius: 0.35em; text-transform: uppercase; vertical-align: middle; margin-left: 0.5rem\">person</span>\n",
              "</mark>\n",
              ") (for the Minister for Health)&lt;/strong&gt;: Happy \n",
              "<mark class=\"entity\" style=\"background: #ffeb80; padding: 0.45em 0.6em; margin: 0 0.25em; line-height: 1; border-radius: 0.35em;\">\n",
              "    International Women's \n",
              "Day\n",
              "    <span style=\"font-size: 0.8em; font-weight: bold; line-height: 1; border-radius: 0.35em; text-transform: uppercase; vertical-align: middle; margin-left: 0.5rem\">event</span>\n",
              "</mark>\n",
              " to all! During the pandemic, \n",
              "<mark class=\"entity\" style=\"background: #ddd; padding: 0.45em 0.6em; margin: 0 0.25em; line-height: 1; border-radius: 0.35em;\">\n",
              "    MO\n",
              "    <span style=\"font-size: 0.8em; font-weight: bold; line-height: 1; border-radius: 0.35em; text-transform: uppercase; vertical-align: middle; margin-left: 0.5rem\">organization</span>\n",
              "</mark>\n",
              "\n",
              "<mark class=\"entity\" style=\"background: #ddd; padding: 0.45em 0.6em; margin: 0 0.25em; line-height: 1; border-radius: 0.35em;\">\n",
              "    H\n",
              "    <span style=\"font-size: 0.8em; font-weight: bold; line-height: 1; border-radius: 0.35em; text-transform: uppercase; vertical-align: middle; margin-left: 0.5rem\">organization</span>\n",
              "</mark>\n",
              " received appeals from some couples to import their </br>pre-implantation genetically screened embryos stored overseas.&amp;nbsp;&lt;/p&gt;&lt;p&gt;In reviewing </br>each appeal, the \n",
              "<mark class=\"entity\" style=\"background: #ddd; padding: 0.45em 0.6em; margin: 0 0.25em; line-height: 1; border-radius: 0.35em;\">\n",
              "    Ministry\n",
              "    <span style=\"font-size: 0.8em; font-weight: bold; line-height: 1; border-radius: 0.35em; text-transform: uppercase; vertical-align: middle; margin-left: 0.5rem\">organization</span>\n",
              "</mark>\n",
              " considered whether processes and standards employed by overseas </br>assisted reproduction (AR) centres are aligned to \n",
              "<mark class=\"entity\" style=\"background: #ddd; padding: 0.45em 0.6em; margin: 0 0.25em; line-height: 1; border-radius: 0.35em;\">\n",
              "    Singapore\n",
              "    <span style=\"font-size: 0.8em; font-weight: bold; line-height: 1; border-radius: 0.35em; text-transform: uppercase; vertical-align: middle; margin-left: 0.5rem\">geopolitical area</span>\n",
              "</mark>\n",
              "’s regulatory requirements under </br>\n",
              "<mark class=\"entity\" style=\"background: #ff8197; padding: 0.45em 0.6em; margin: 0 0.25em; line-height: 1; border-radius: 0.35em;\">\n",
              "    the Licensing Terms and Conditions for AR Services (\n",
              "    <span style=\"font-size: 0.8em; font-weight: bold; line-height: 1; border-radius: 0.35em; text-transform: uppercase; vertical-align: middle; margin-left: 0.5rem\">law</span>\n",
              "</mark>\n",
              "\n",
              "<mark class=\"entity\" style=\"background: #ff8197; padding: 0.45em 0.6em; margin: 0 0.25em; line-height: 1; border-radius: 0.35em;\">\n",
              "    AR LTCs\n",
              "    <span style=\"font-size: 0.8em; font-weight: bold; line-height: 1; border-radius: 0.35em; text-transform: uppercase; vertical-align: middle; margin-left: 0.5rem\">law</span>\n",
              "</mark>\n",
              "). The \n",
              "<mark class=\"entity\" style=\"background: #ddd; padding: 0.45em 0.6em; margin: 0 0.25em; line-height: 1; border-radius: 0.35em;\">\n",
              "    Ministry\n",
              "    <span style=\"font-size: 0.8em; font-weight: bold; line-height: 1; border-radius: 0.35em; text-transform: uppercase; vertical-align: middle; margin-left: 0.5rem\">organization</span>\n",
              "</mark>\n",
              " may on an </br>exceptional basis allow importation of the embryos, subject to conditions. These conditions </br>include: (a) declaration by the overseas AR centre that the relevant requirements under \n",
              "<mark class=\"entity\" style=\"background: #ff8197; padding: 0.45em 0.6em; margin: 0 0.25em; line-height: 1; border-radius: 0.35em;\">\n",
              "    the\n",
              "    <span style=\"font-size: 0.8em; font-weight: bold; line-height: 1; border-radius: 0.35em; text-transform: uppercase; vertical-align: middle; margin-left: 0.5rem\">law</span>\n",
              "</mark>\n",
              " \n",
              "<mark class=\"entity\" style=\"background: #ff8197; padding: 0.45em 0.6em; margin: 0 0.25em; line-height: 1; border-radius: 0.35em;\">\n",
              "    AR \n",
              "LTCs\n",
              "    <span style=\"font-size: 0.8em; font-weight: bold; line-height: 1; border-radius: 0.35em; text-transform: uppercase; vertical-align: middle; margin-left: 0.5rem\">law</span>\n",
              "</mark>\n",
              ", including the handling, processing and storage of the embryos, are adhered to; (b) that </br>no other findings besides the presence or absence of chromosomal aberrations are reported, and </br>(c) proper documentation of the screening test results that were provided to the patient and </br>attending physician in our local AR centres.&amp;nbsp;&lt;/p&gt;&lt;p&gt;Local AR centres which receive the </br>tested embryos must also continue to ensure compliance with the \n",
              "<mark class=\"entity\" style=\"background: #ff8197; padding: 0.45em 0.6em; margin: 0 0.25em; line-height: 1; border-radius: 0.35em;\">\n",
              "    AR LTCs\n",
              "    <span style=\"font-size: 0.8em; font-weight: bold; line-height: 1; border-radius: 0.35em; text-transform: uppercase; vertical-align: middle; margin-left: 0.5rem\">law</span>\n",
              "</mark>\n",
              ".&lt;/p&gt;</div></span>"
            ],
            "text/plain": [
              "<IPython.core.display.HTML object>"
            ]
          },
          "metadata": {
            "tags": []
          }
        }
      ]
    },
    {
      "cell_type": "markdown",
      "metadata": {
        "id": "DfprR4DupBrH"
      },
      "source": [
        "# Sentiment Analysis"
      ]
    },
    {
      "cell_type": "code",
      "metadata": {
        "colab": {
          "base_uri": "https://localhost:8080/"
        },
        "id": "q7BWG-79fULp",
        "outputId": "94808224-493f-4788-b959-77e1ddcd31e6"
      },
      "source": [
        "!pip install transformers\n",
        "from transformers import BertTokenizer, BertForSequenceClassification, pipeline\n",
        "\n",
        "RAW_SEQUENCES = [\n",
        "# Expected negative sentiment\n",
        "\"\"\"Sir, I am proud that the Malay/Muslim community here remains strong and \\\n",
        "united despite many tests and challenges. It just that lately, some members of the community \\\n",
        "and our asatizah have complained that when crucial issues are voiced out or problems are \\\n",
        "raised, there are no clear answers from the authorities responsible for managing our welfare, \\\n",
        "needs and well-being.\"\"\",\n",
        "\n",
        "# Expected positive sentiment\n",
        "\"\"\"The difficult adjustments made by the community in response to COVID-19 \\\n",
        "was possible because our religious leadership was decisive and united. MUIS played a central \\\n",
        "role in this by issuing religious guidance early and rallying asatizah and mosque leaders to \\\n",
        "guide the community to adapt to the changing environment. While MUIS was monitoring \\\n",
        "developments and decisions of religious authorities around the world, we could not simply \\\n",
        "copy what others had done, but rather had to find our own solutions. When difficult decisions \\\n",
        "were made, the community came together and supported these decisions. Everyone played a part \\\n",
        "to encourage and guide one another – lawyers, doctors, community leaders and ordinary citizens, \\\n",
        "all rolled up our sleeves.\"\"\",\n",
        "\n",
        "# Unclear example, negative topic but neutral sentiment\n",
        "\"\"\"One of the concerns I have relates to the guidance of high-risk Malay/Muslim \\\n",
        "youths who often come from families with many issues. They may have insufficient role models at \\\n",
        "home for a variety of reasons. It is not uncommon for such youths to suffer low confidence, poor \\\n",
        "performance in studies, or be involved in activities that may lead them down the road of \\\n",
        "juvenile delinquency. \"\"\",\n",
        "\n",
        "# Unclear example, positive topic but possible negative sentiment\n",
        "\"\"\"Earlier this year, MCCY had organised \"Emerging Stronger Together\" and \\\n",
        "\"Ciptasama\" sessions for the Malay/Muslim community to share their views and suggestions \\\n",
        "in building a community of success and a better Singapore for the future. I note from the \\\n",
        "\"Emerging Stronger\" website that only 6% of the participants in these conversations were \\\n",
        "Malay. And I hope that more in our community can participate\"\"\"\n",
        "]\n",
        "\n",
        "tokenizer = BertTokenizer.from_pretrained('bert-base-uncased')\n",
        "model = BertForSequenceClassification.from_pretrained(\n",
        "    'textattack/bert-base-uncased-SST-2')\n",
        "\n",
        "nlp = pipeline('sentiment-analysis', model=model, tokenizer=tokenizer)\n",
        "sentiment = {'LABEL_0': \"Negative\", \"LABEL_1\": \"Positive\"}\n",
        "\n",
        "for seq in RAW_SEQUENCES:\n",
        "  result = nlp(seq)[0]\n",
        "  print(\"----\\n\", seq)\n",
        "  print(f\"label: {sentiment[result['label']]}, with score: {round(result['score'], 4)}\\n\")"
      ],
      "execution_count": 29,
      "outputs": [
        {
          "output_type": "stream",
          "text": [
            "Requirement already satisfied: transformers in /usr/local/lib/python3.7/dist-packages (4.4.2)\n",
            "Requirement already satisfied: filelock in /usr/local/lib/python3.7/dist-packages (from transformers) (3.0.12)\n",
            "Requirement already satisfied: regex!=2019.12.17 in /usr/local/lib/python3.7/dist-packages (from transformers) (2019.12.20)\n",
            "Requirement already satisfied: importlib-metadata; python_version < \"3.8\" in /usr/local/lib/python3.7/dist-packages (from transformers) (3.7.2)\n",
            "Requirement already satisfied: sacremoses in /usr/local/lib/python3.7/dist-packages (from transformers) (0.0.43)\n",
            "Requirement already satisfied: numpy>=1.17 in /usr/local/lib/python3.7/dist-packages (from transformers) (1.19.5)\n",
            "Requirement already satisfied: tokenizers<0.11,>=0.10.1 in /usr/local/lib/python3.7/dist-packages (from transformers) (0.10.1)\n",
            "Requirement already satisfied: requests in /usr/local/lib/python3.7/dist-packages (from transformers) (2.23.0)\n",
            "Requirement already satisfied: packaging in /usr/local/lib/python3.7/dist-packages (from transformers) (20.9)\n",
            "Requirement already satisfied: tqdm>=4.27 in /usr/local/lib/python3.7/dist-packages (from transformers) (4.41.1)\n",
            "Requirement already satisfied: zipp>=0.5 in /usr/local/lib/python3.7/dist-packages (from importlib-metadata; python_version < \"3.8\"->transformers) (3.4.1)\n",
            "Requirement already satisfied: typing-extensions>=3.6.4; python_version < \"3.8\" in /usr/local/lib/python3.7/dist-packages (from importlib-metadata; python_version < \"3.8\"->transformers) (3.7.4.3)\n",
            "Requirement already satisfied: joblib in /usr/local/lib/python3.7/dist-packages (from sacremoses->transformers) (1.0.1)\n",
            "Requirement already satisfied: six in /usr/local/lib/python3.7/dist-packages (from sacremoses->transformers) (1.15.0)\n",
            "Requirement already satisfied: click in /usr/local/lib/python3.7/dist-packages (from sacremoses->transformers) (7.1.2)\n",
            "Requirement already satisfied: certifi>=2017.4.17 in /usr/local/lib/python3.7/dist-packages (from requests->transformers) (2020.12.5)\n",
            "Requirement already satisfied: idna<3,>=2.5 in /usr/local/lib/python3.7/dist-packages (from requests->transformers) (2.10)\n",
            "Requirement already satisfied: urllib3!=1.25.0,!=1.25.1,<1.26,>=1.21.1 in /usr/local/lib/python3.7/dist-packages (from requests->transformers) (1.24.3)\n",
            "Requirement already satisfied: chardet<4,>=3.0.2 in /usr/local/lib/python3.7/dist-packages (from requests->transformers) (3.0.4)\n",
            "Requirement already satisfied: pyparsing>=2.0.2 in /usr/local/lib/python3.7/dist-packages (from packaging->transformers) (2.4.7)\n",
            "----\n",
            " Sir, I am proud that the Malay/Muslim community here remains strong and united despite many tests and challenges. It just that lately, some members of the community and our asatizah have complained that when crucial issues are voiced out or problems are raised, there are no clear answers from the authorities responsible for managing our welfare, needs and well-being.\n",
            "label: Negative, with score: 0.886\n",
            "\n",
            "----\n",
            " The difficult adjustments made by the community in response to COVID-19 was possible because our religious leadership was decisive and united. MUIS played a central role in this by issuing religious guidance early and rallying asatizah and mosque leaders to guide the community to adapt to the changing environment. While MUIS was monitoring developments and decisions of religious authorities around the world, we could not simply copy what others had done, but rather had to find our own solutions. When difficult decisions were made, the community came together and supported these decisions. Everyone played a part to encourage and guide one another – lawyers, doctors, community leaders and ordinary citizens, all rolled up our sleeves.\n",
            "label: Positive, with score: 0.9968\n",
            "\n",
            "----\n",
            " One of the concerns I have relates to the guidance of high-risk Malay/Muslim youths who often come from families with many issues. They may have insufficient role models at home for a variety of reasons. It is not uncommon for such youths to suffer low confidence, poor performance in studies, or be involved in activities that may lead them down the road of juvenile delinquency. \n",
            "label: Negative, with score: 0.9833\n",
            "\n",
            "----\n",
            " Earlier this year, MCCY had organised \"Emerging Stronger Together\" and \"Ciptasama\" sessions for the Malay/Muslim community to share their views and suggestions in building a community of success and a better Singapore for the future. I note from the \"Emerging Stronger\" website that only 6% of the participants in these conversations were Malay. And I hope that more in our community can participate\n",
            "label: Positive, with score: 0.9577\n",
            "\n"
          ],
          "name": "stdout"
        }
      ]
    },
    {
      "cell_type": "markdown",
      "metadata": {
        "id": "XYvsGNmUtATU"
      },
      "source": [
        "# Summarisation"
      ]
    },
    {
      "cell_type": "code",
      "metadata": {
        "colab": {
          "base_uri": "https://localhost:8080/"
        },
        "id": "7uustAUMs_nx",
        "outputId": "bfffc085-56da-4a4d-9f18-2c1710e6c98a"
      },
      "source": [
        "!pip install transformers\n",
        "from transformers import AutoTokenizer, AutoModelForSeq2SeqLM, pipeline\n",
        "\n",
        "RAW_SEQUENCE = \"\"\"<p>1 <strong>Mr Louis Ng Kok Kwang</strong> asked&nbsp;the Minister for Health \\\n",
        "whether couples who have pre-implantation genetically screened embryos stored overseas can have \\\n",
        "their embryos shipped to Singapore given current travel restrictions during the \\\n",
        "pandemic.</p><p><strong>\tThe Parliamentary Secretary to the Minister for Health \\\n",
        "(Ms Rahayu Mahzam) (for the Minister for Health)</strong>: Happy International Women's \\\n",
        "Day to all! During the pandemic, MOH received appeals from some couples to import their \\\n",
        "pre-implantation genetically screened embryos stored overseas.&nbsp;</p><p>In reviewing \\\n",
        "each appeal, the Ministry considered whether processes and standards employed by overseas \\\n",
        "assisted reproduction (AR) centres are aligned to Singapore’s regulatory requirements under \\\n",
        "the Licensing Terms and Conditions for AR Services (AR LTCs). The Ministry may on an \\\n",
        "exceptional basis allow importation of the embryos, subject to conditions. These conditions \\\n",
        "include: (a) declaration by the overseas AR centre that the relevant requirements under the AR \\\n",
        "LTCs, including the handling, processing and storage of the embryos, are adhered to; (b) that \\\n",
        "no other findings besides the presence or absence of chromosomal aberrations are reported, and \\\n",
        "(c) proper documentation of the screening test results that were provided to the patient and \\\n",
        "attending physician in our local AR centres.&nbsp;</p><p>Local AR centres which receive the \\\n",
        "tested embryos must also continue to ensure compliance with the AR LTCs.</p>\"\"\"\n",
        "\n",
        "tokenizer = AutoTokenizer.from_pretrained(\"sshleifer/distilbart-cnn-12-6\")\n",
        "model = AutoModelForSeq2SeqLM.from_pretrained(\"sshleifer/distilbart-cnn-12-6\")\n",
        "\n",
        "summarizer = pipeline(\"summarization\", model=model, tokenizer=tokenizer)\n",
        "\n",
        "print(summarizer(RAW_SEQUENCE, max_length=130, min_length=30, do_sample=False))"
      ],
      "execution_count": 1,
      "outputs": [
        {
          "output_type": "stream",
          "text": [
            "Requirement already satisfied: transformers in /usr/local/lib/python3.7/dist-packages (4.4.2)\n",
            "Requirement already satisfied: tqdm>=4.27 in /usr/local/lib/python3.7/dist-packages (from transformers) (4.41.1)\n",
            "Requirement already satisfied: importlib-metadata; python_version < \"3.8\" in /usr/local/lib/python3.7/dist-packages (from transformers) (3.7.2)\n",
            "Requirement already satisfied: requests in /usr/local/lib/python3.7/dist-packages (from transformers) (2.23.0)\n",
            "Requirement already satisfied: sacremoses in /usr/local/lib/python3.7/dist-packages (from transformers) (0.0.43)\n",
            "Requirement already satisfied: numpy>=1.17 in /usr/local/lib/python3.7/dist-packages (from transformers) (1.19.5)\n",
            "Requirement already satisfied: filelock in /usr/local/lib/python3.7/dist-packages (from transformers) (3.0.12)\n",
            "Requirement already satisfied: packaging in /usr/local/lib/python3.7/dist-packages (from transformers) (20.9)\n",
            "Requirement already satisfied: regex!=2019.12.17 in /usr/local/lib/python3.7/dist-packages (from transformers) (2019.12.20)\n",
            "Requirement already satisfied: tokenizers<0.11,>=0.10.1 in /usr/local/lib/python3.7/dist-packages (from transformers) (0.10.1)\n",
            "Requirement already satisfied: zipp>=0.5 in /usr/local/lib/python3.7/dist-packages (from importlib-metadata; python_version < \"3.8\"->transformers) (3.4.1)\n",
            "Requirement already satisfied: typing-extensions>=3.6.4; python_version < \"3.8\" in /usr/local/lib/python3.7/dist-packages (from importlib-metadata; python_version < \"3.8\"->transformers) (3.7.4.3)\n",
            "Requirement already satisfied: certifi>=2017.4.17 in /usr/local/lib/python3.7/dist-packages (from requests->transformers) (2020.12.5)\n",
            "Requirement already satisfied: urllib3!=1.25.0,!=1.25.1,<1.26,>=1.21.1 in /usr/local/lib/python3.7/dist-packages (from requests->transformers) (1.24.3)\n",
            "Requirement already satisfied: chardet<4,>=3.0.2 in /usr/local/lib/python3.7/dist-packages (from requests->transformers) (3.0.4)\n",
            "Requirement already satisfied: idna<3,>=2.5 in /usr/local/lib/python3.7/dist-packages (from requests->transformers) (2.10)\n",
            "Requirement already satisfied: six in /usr/local/lib/python3.7/dist-packages (from sacremoses->transformers) (1.15.0)\n",
            "Requirement already satisfied: click in /usr/local/lib/python3.7/dist-packages (from sacremoses->transformers) (7.1.2)\n",
            "Requirement already satisfied: joblib in /usr/local/lib/python3.7/dist-packages (from sacremoses->transformers) (1.0.1)\n",
            "Requirement already satisfied: pyparsing>=2.0.2 in /usr/local/lib/python3.7/dist-packages (from packaging->transformers) (2.4.7)\n",
            "[{'summary_text': ' Mr Louis Ng Kok Kwang asked the Minister for Health whether couples who have pre-implantation genetically screened embryos stored overseas can have their embryos shipped to Singapore given current travel restrictions during the pandemic .'}]\n"
          ],
          "name": "stdout"
        }
      ]
    }
  ]
}